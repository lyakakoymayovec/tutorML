{
 "cells": [
  {
   "cell_type": "code",
   "execution_count": 1,
   "id": "e0799973",
   "metadata": {},
   "outputs": [],
   "source": [
    "row = \"Lambdadambda\""
   ]
  },
  {
   "cell_type": "code",
   "execution_count": 2,
   "id": "8e3b7745",
   "metadata": {},
   "outputs": [
    {
     "name": "stdout",
     "output_type": "stream",
     "text": [
      "m\n"
     ]
    }
   ],
   "source": [
    "print(row[2]) #Вывести третий символ этой строки."
   ]
  },
  {
   "cell_type": "code",
   "execution_count": 3,
   "id": "a4e57dc0",
   "metadata": {},
   "outputs": [
    {
     "name": "stdout",
     "output_type": "stream",
     "text": [
      "d\n"
     ]
    }
   ],
   "source": [
    "print(row[10]) #Вывести предпоследний символ этой строки."
   ]
  },
  {
   "cell_type": "code",
   "execution_count": 4,
   "id": "b9819664",
   "metadata": {},
   "outputs": [
    {
     "name": "stdout",
     "output_type": "stream",
     "text": [
      "Lambd\n"
     ]
    }
   ],
   "source": [
    "print(row[0:5])#Вывести первые пять символов этой строки."
   ]
  },
  {
   "cell_type": "code",
   "execution_count": 5,
   "id": "843e24dc",
   "metadata": {},
   "outputs": [
    {
     "name": "stdout",
     "output_type": "stream",
     "text": [
      "Lambdadamb\n"
     ]
    }
   ],
   "source": [
    "print(row[0:10])#Вывести строку, кроме последних двух символов."
   ]
  },
  {
   "cell_type": "code",
   "execution_count": 6,
   "id": "d9e5d89e",
   "metadata": {},
   "outputs": [
    {
     "name": "stdout",
     "output_type": "stream",
     "text": [
      "L m d d m d\n"
     ]
    }
   ],
   "source": [
    "print(row[0],row[2],row[4],row[6],row[8],row[10])#Вывести все символы с четными индексами (считайте, что 0 - четный индекс)."
   ]
  },
  {
   "cell_type": "code",
   "execution_count": 7,
   "id": "2b613402",
   "metadata": {},
   "outputs": [
    {
     "name": "stdout",
     "output_type": "stream",
     "text": [
      "a b a a b a\n"
     ]
    }
   ],
   "source": [
    "print(row[1],row[3],row[5],row[7],row[9],row[11])#Вывести все символы с нечетными индексами."
   ]
  },
  {
   "cell_type": "code",
   "execution_count": 8,
   "id": "56e36179",
   "metadata": {},
   "outputs": [
    {
     "name": "stdout",
     "output_type": "stream",
     "text": [
      "a d b m a d a d b m a L\n"
     ]
    }
   ],
   "source": [
    "print(row[11],row[10],row[9],row[8],row[7],row[6],row[5],row[4],row[3],row[2],row[1],row[0])#Вывести все символы в обратном порядке."
   ]
  },
  {
   "cell_type": "code",
   "execution_count": 9,
   "id": "0ecd8572",
   "metadata": {},
   "outputs": [
    {
     "name": "stdout",
     "output_type": "stream",
     "text": [
      "a b a a b a\n"
     ]
    }
   ],
   "source": [
    "print(row[11],row[9],row[7],row[5],row[3],row[1])#Вывести все символы строки через один в обратном порядке, начиная с последнего."
   ]
  },
  {
   "cell_type": "code",
   "execution_count": 10,
   "id": "e73d44b0",
   "metadata": {},
   "outputs": [
    {
     "name": "stdout",
     "output_type": "stream",
     "text": [
      "12\n"
     ]
    }
   ],
   "source": [
    "print(len(row))#Вывести длину данной строки."
   ]
  }
 ],
 "metadata": {
  "kernelspec": {
   "display_name": "Python 3 (ipykernel)",
   "language": "python",
   "name": "python3"
  },
  "language_info": {
   "codemirror_mode": {
    "name": "ipython",
    "version": 3
   },
   "file_extension": ".py",
   "mimetype": "text/x-python",
   "name": "python",
   "nbconvert_exporter": "python",
   "pygments_lexer": "ipython3",
   "version": "3.8.13"
  }
 },
 "nbformat": 4,
 "nbformat_minor": 5
}
