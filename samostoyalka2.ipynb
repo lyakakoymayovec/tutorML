{
 "cells": [
  {
   "cell_type": "code",
   "execution_count": 1,
   "id": "a1b81ce5",
   "metadata": {},
   "outputs": [
    {
     "data": {
      "text/plain": [
       "1"
      ]
     },
     "execution_count": 1,
     "metadata": {},
     "output_type": "execute_result"
    }
   ],
   "source": [
    "a = 1 #Допишите функцию, которая принимает 2 числа, сравнивает между собой и возвращает наименьшее.\n",
    "b = 3\n",
    "min([a,b])"
   ]
  },
  {
   "cell_type": "code",
   "execution_count": 2,
   "id": "995bd86f",
   "metadata": {},
   "outputs": [
    {
     "data": {
      "text/plain": [
       "4"
      ]
     },
     "execution_count": 2,
     "metadata": {},
     "output_type": "execute_result"
    }
   ],
   "source": [
    "a = 4 #Допишите функцию, которая принимает 3 числа, сравнивает между собой и возвращает наименьшее.\n",
    "b = 39\n",
    "c = 28\n",
    "min([a,b,c])"
   ]
  },
  {
   "cell_type": "code",
   "execution_count": 3,
   "id": "fad7d42d",
   "metadata": {},
   "outputs": [],
   "source": [
    "a = 4\n",
    "b = 2\n",
    "c = 1"
   ]
  },
  {
   "cell_type": "code",
   "execution_count": 4,
   "id": "c7451e3c",
   "metadata": {},
   "outputs": [
    {
     "name": "stdout",
     "output_type": "stream",
     "text": [
      "0\n"
     ]
    }
   ],
   "source": [
    "if len(set([a,b,c])) == 1: #Допишите функцию, которая принимает 3 числа, сравнивает между собой и возвращает количество совпадающих чисел. Соответственно, программа может возвращать одно из трех чисел: 3 - если совпадают все, 2 - если совпадают 2 числа, 0 - если все числа различны.\n",
    "    print (3)\n",
    "if len(set([a,b,c])) == 2:\n",
    "    print (2)\n",
    "if len(set([a,b,c])) == 3:\n",
    "    print (0)"
   ]
  }
 ],
 "metadata": {
  "kernelspec": {
   "display_name": "Python 3 (ipykernel)",
   "language": "python",
   "name": "python3"
  },
  "language_info": {
   "codemirror_mode": {
    "name": "ipython",
    "version": 3
   },
   "file_extension": ".py",
   "mimetype": "text/x-python",
   "name": "python",
   "nbconvert_exporter": "python",
   "pygments_lexer": "ipython3",
   "version": "3.8.13"
  }
 },
 "nbformat": 4,
 "nbformat_minor": 5
}
