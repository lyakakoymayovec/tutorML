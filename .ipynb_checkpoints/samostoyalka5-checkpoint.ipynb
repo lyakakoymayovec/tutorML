{
 "cells": [
  {
   "cell_type": "code",
   "execution_count": 1,
   "id": "960353f2",
   "metadata": {},
   "outputs": [
    {
     "name": "stdout",
     "output_type": "stream",
     "text": [
      "я б хотел спросить а потом нет\n",
      "я\n",
      "хотел\n",
      "а\n",
      "нет\n"
     ]
    }
   ],
   "source": [
    "a = input().split() #Допишите функцию, которая принимает список, выбирает из него все элементы с четным индексом и возвращает их в виде списка.\n",
    "for i in range(0, len(a), 2):\n",
    "    print(a[i])"
   ]
  },
  {
   "cell_type": "code",
   "execution_count": 2,
   "id": "cc73ceed",
   "metadata": {},
   "outputs": [
    {
     "name": "stdout",
     "output_type": "stream",
     "text": [
      "2 4 5 3 8 0\n",
      "4\n",
      "5\n",
      "8\n"
     ]
    }
   ],
   "source": [
    "a=input().split()#Задание 2 Допишите функцию, которая принимает список, выбирает из него все элементы, которые больше предыдущего и возвращает их в виде списка.\n",
    "for i in range(1,len(a)):\n",
    "    if a[i]>a[i-1]:\n",
    "        print(a[i])"
   ]
  },
  {
   "cell_type": "code",
   "execution_count": 3,
   "id": "3abd458e",
   "metadata": {},
   "outputs": [
    {
     "name": "stdout",
     "output_type": "stream",
     "text": [
      "3 6 2 0 19 -3\n",
      "3 6 2 0 -3 19\n"
     ]
    }
   ],
   "source": [
    "a = [int(s) for s in input().split()] #Задание 3 Допишите функцию, которая принимает список, меняет местами наибольший и наименьший элементы и возвращает этот список.\n",
    "index_of_min = 0\n",
    "index_of_max = 0\n",
    "for i in range(1, len(a)):\n",
    "    if a[i] > a[index_of_max]:\n",
    "        index_of_max = i\n",
    "    if a[i] < a[index_of_min]:\n",
    "        index_of_min = i\n",
    "a[index_of_min], a[index_of_max] = a[index_of_max], a[index_of_min]\n",
    "print(' '.join([str(i) for i in a]))\n"
   ]
  }
 ],
 "metadata": {
  "kernelspec": {
   "display_name": "Python 3 (ipykernel)",
   "language": "python",
   "name": "python3"
  },
  "language_info": {
   "codemirror_mode": {
    "name": "ipython",
    "version": 3
   },
   "file_extension": ".py",
   "mimetype": "text/x-python",
   "name": "python",
   "nbconvert_exporter": "python",
   "pygments_lexer": "ipython3",
   "version": "3.8.13"
  }
 },
 "nbformat": 4,
 "nbformat_minor": 5
}
