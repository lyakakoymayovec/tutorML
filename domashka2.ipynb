{
 "cells": [
  {
   "cell_type": "code",
   "execution_count": 1,
   "id": "55cfd1be",
   "metadata": {},
   "outputs": [
    {
     "name": "stdout",
     "output_type": "stream",
     "text": [
      "60.0\n"
     ]
    }
   ],
   "source": [
    "def factorial(n): # Один самолет вылетел из Москвы, и должен совершить посадку в 5 городах. Необходимо узнать, количество городов, в котрых может приземлиться в первый, второй, третий город.\n",
    "    if n == 1: return 1\n",
    "    else: return n * factorial(n-1)\n",
    "print (factorial(5)/factorial(5-3))"
   ]
  },
  {
   "cell_type": "code",
   "execution_count": 2,
   "id": "ad0c5032",
   "metadata": {},
   "outputs": [
    {
     "name": "stdout",
     "output_type": "stream",
     "text": [
      "0.0018310546875\n"
     ]
    }
   ],
   "source": [
    "def factorial(n): # Осьминог Пауль 16 раз пробовал угадать победителя футбольного матча. 14 раз он угадал правильно, 2 раза ошибся. Проверьте гипотезу H0: Пауль выбирает победителя футбольного матча случайно. Сделайте вывод. (сложная задача)\n",
    "    if n == 1: return 1\n",
    "    else: return n * factorial(n-1)\n",
    "c = (factorial(16)/(factorial(14)*factorial(16-14)))\n",
    "print(c/2**16)"
   ]
  }
 ],
 "metadata": {
  "kernelspec": {
   "display_name": "Python 3 (ipykernel)",
   "language": "python",
   "name": "python3"
  },
  "language_info": {
   "codemirror_mode": {
    "name": "ipython",
    "version": 3
   },
   "file_extension": ".py",
   "mimetype": "text/x-python",
   "name": "python",
   "nbconvert_exporter": "python",
   "pygments_lexer": "ipython3",
   "version": "3.8.13"
  }
 },
 "nbformat": 4,
 "nbformat_minor": 5
}
