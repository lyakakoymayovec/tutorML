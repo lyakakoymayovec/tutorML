{
 "cells": [
  {
   "cell_type": "code",
   "execution_count": 1,
   "id": "de5889d1",
   "metadata": {},
   "outputs": [],
   "source": [
    "var = (1,32,4,3,65,1,23,2,45,60) #Задание 1 Допишите функцию, которая принимает массив из 10 чисел и возвращает их сумму.\n",
    "sum = 0"
   ]
  },
  {
   "cell_type": "code",
   "execution_count": 2,
   "id": "ded1eee2",
   "metadata": {},
   "outputs": [
    {
     "name": "stdout",
     "output_type": "stream",
     "text": [
      "236\n"
     ]
    }
   ],
   "source": [
    "for i in var:\n",
    "    sum = sum+i\n",
    "print (sum)"
   ]
  },
  {
   "cell_type": "code",
   "execution_count": 3,
   "id": "a252331a",
   "metadata": {},
   "outputs": [],
   "source": [
    "v = (2,32,0,4,7,5,2,13,5,90) #Задание 2 Допишите функцию, которая принимает массив чисел и возвращает количество чисел равных нулю.\n",
    "count = 0"
   ]
  },
  {
   "cell_type": "code",
   "execution_count": 4,
   "id": "f103c5a5",
   "metadata": {},
   "outputs": [
    {
     "name": "stdout",
     "output_type": "stream",
     "text": [
      "1\n"
     ]
    }
   ],
   "source": [
    "for i in v:\n",
    "    if i == 0:\n",
    "        count+=1\n",
    "print (count)"
   ]
  },
  {
   "cell_type": "code",
   "execution_count": 5,
   "id": "50b003a9",
   "metadata": {},
   "outputs": [
    {
     "name": "stdout",
     "output_type": "stream",
     "text": [
      "4\n",
      "1\n",
      "12\n",
      "123\n",
      "1234\n"
     ]
    }
   ],
   "source": [
    "n = int(input()) #Задание 3 Напишите программу, в которой задается натуральное число n и выводится лестница из n ступенек, i-я ступенька должна состоять из чисел от 1 до i без пробелов.\n",
    "for i in range(1, n + 1):\n",
    "    for j in range(1, i + 1):\n",
    "        print(j, sep='', end='')\n",
    "    print()\n"
   ]
  },
  {
   "cell_type": "code",
   "execution_count": 6,
   "id": "a9f8027a",
   "metadata": {},
   "outputs": [
    {
     "name": "stdout",
     "output_type": "stream",
     "text": [
      "7\n",
      "       \n",
      "      1\n",
      "     121\n",
      "    12321\n",
      "   1234321\n",
      "  123454321\n",
      " 12345654321\n",
      "1234567654321\n"
     ]
    }
   ],
   "source": [
    "n = int(input()) + 1 #Задание 4 Напишите программу, в которой задается натуральное число n и выводится пирамида из n ступенек, i-я ступень должна состоять из чисел от 1 до i и обратно без пробелов.\n",
    "for i in range(1, n + 1):\n",
    "    print(' ' * (n - i), end='')\n",
    "    print(*range(1, i), *range(1, i - 1)[::-1], sep='')\n",
    "\n",
    "\n"
   ]
  },
  {
   "cell_type": "code",
   "execution_count": 8,
   "id": "08c7f382",
   "metadata": {},
   "outputs": [
    {
     "name": "stdout",
     "output_type": "stream",
     "text": [
      "n = 9\n",
      "        1         \n",
      "       121        \n",
      "      12321       \n",
      "     1234321      \n",
      "    123454321     \n",
      "   12345654321    \n",
      "  1234567654321   \n",
      " 123456787654321  \n",
      "12345678987654321 \n",
      " 123456787654321  \n",
      "  1234567654321   \n",
      "   12345654321    \n",
      "    123454321     \n",
      "     1234321      \n",
      "      12321       \n",
      "       121        \n",
      "        1         \n",
      "                  \n"
     ]
    }
   ],
   "source": [
    "n = int( input('n = ') ) #Задание 5 Напишите программу, в которой задается натуральное число n и выводится ромб из n*2-1 ступенек, i-я ступень должна состоять из чисел от 1 до i и обратно без пробелов.\n",
    "for i in range(n*2):\n",
    "    for j in range(n*2):\n",
    "        res = n - abs( i-n+1 ) - abs( j-n+1 )\n",
    "        print( [res,' '][res<1],end='' )\n",
    "    print()"
   ]
  }
 ],
 "metadata": {
  "kernelspec": {
   "display_name": "Python 3 (ipykernel)",
   "language": "python",
   "name": "python3"
  },
  "language_info": {
   "codemirror_mode": {
    "name": "ipython",
    "version": 3
   },
   "file_extension": ".py",
   "mimetype": "text/x-python",
   "name": "python",
   "nbconvert_exporter": "python",
   "pygments_lexer": "ipython3",
   "version": "3.8.13"
  }
 },
 "nbformat": 4,
 "nbformat_minor": 5
}
